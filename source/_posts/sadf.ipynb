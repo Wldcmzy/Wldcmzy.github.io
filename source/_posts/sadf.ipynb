{
 "cells": [
  {
   "cell_type": "code",
   "execution_count": 1,
   "metadata": {},
   "outputs": [],
   "source": [
    "import os\n",
    "import os.path"
   ]
  },
  {
   "cell_type": "code",
   "execution_count": 20,
   "metadata": {},
   "outputs": [],
   "source": [
    "lst = [each for each in os.listdir() if each[-3 : ] == '.md']\n",
    "test = ['【DP】石子合并.md']"
   ]
  },
  {
   "cell_type": "code",
   "execution_count": 21,
   "metadata": {},
   "outputs": [],
   "source": [
    "for each in lst:\n",
    "    sss = '''---\n",
    "title: %s\n",
    "date: 1111-11-11 11:11:11\n",
    "categories:\n",
    "  - OldBlog(Before20220505)\n",
    "tags:\n",
    "  - OldBlog(Before20220505)\n",
    "---\n",
    "\n",
    "## 说明 - 2022-05-05\n",
    "本篇博客为本人原创, 原发布于CSDN, 在搭建个人博客后使用爬虫批量爬取并挂到个人博客, 出于一些技术原因博客未能完全还原到初始版本(而且我懒得修改), 在观看体验上会有一些瑕疵 ,若有需求会发布重制版总结性新博客。发布时间统一定为1111年11月11日。钦此。\n",
    "\n",
    "''' % (each)\n",
    "    with open(each, 'r', encoding='utf-8') as f:\n",
    "        txt = f.read()\n",
    "    with open(each, 'w', encoding='utf-8') as f:\n",
    "        f.write(sss)\n",
    "        f.write(txt)"
   ]
  },
  {
   "cell_type": "code",
   "execution_count": null,
   "metadata": {},
   "outputs": [],
   "source": []
  },
  {
   "cell_type": "code",
   "execution_count": 22,
   "metadata": {},
   "outputs": [],
   "source": []
  },
  {
   "cell_type": "code",
   "execution_count": 16,
   "metadata": {},
   "outputs": [
    {
     "name": "stdout",
     "output_type": "stream",
     "text": [
      "---\n",
      "title: 【DP】石子合并.md\n",
      "date: 1111-11-11 11:11:11\n",
      "categories:\n",
      "  - OldHistery\n",
      "tags:\n",
      "  - OldHistery\n",
      "---\n",
      "\n"
     ]
    }
   ],
   "source": [
    "print(sss)"
   ]
  },
  {
   "cell_type": "code",
   "execution_count": null,
   "metadata": {},
   "outputs": [],
   "source": []
  }
 ],
 "metadata": {
  "interpreter": {
   "hash": "b3ba2566441a7c06988d0923437866b63cedc61552a5af99d1f4fb67d367b25f"
  },
  "kernelspec": {
   "display_name": "Python 3.8.8 ('base')",
   "language": "python",
   "name": "python3"
  },
  "language_info": {
   "codemirror_mode": {
    "name": "ipython",
    "version": 3
   },
   "file_extension": ".py",
   "mimetype": "text/x-python",
   "name": "python",
   "nbconvert_exporter": "python",
   "pygments_lexer": "ipython3",
   "version": "3.8.8"
  },
  "orig_nbformat": 4
 },
 "nbformat": 4,
 "nbformat_minor": 2
}
